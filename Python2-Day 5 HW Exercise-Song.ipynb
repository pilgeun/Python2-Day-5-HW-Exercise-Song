{
 "cells": [
  {
   "cell_type": "markdown",
   "metadata": {},
   "source": [
    "Exercise 1: \n",
    "\n",
    "Write a function that accepts two parameters: a city name and a country name. the function should return a single string of the form City, Country like <i>Anchorage, United States</i>. \n",
    "\n",
    "Using a doctest method, write a test case and make sure your test passes.\n"
   ]
  },
  {
   "cell_type": "code",
   "execution_count": 18,
   "metadata": {},
   "outputs": [
    {
     "name": "stdout",
     "output_type": "stream",
     "text": [
      "Anchorage, United States\n"
     ]
    }
   ],
   "source": [
    "def city_info (city, country) :\n",
    "    \"\"\"Returns formatted string of City, Country\n",
    "    \n",
    "    >>> city_info('Anchorage', 'United States')\n",
    "    'Anchorage, United States'\n",
    "    \"\"\"\n",
    "    return f\"{city}, {country}\"\n",
    "\n",
    "print(city_info('Anchorage', 'United States'))\n"
   ]
  },
  {
   "cell_type": "code",
   "execution_count": 19,
   "metadata": {},
   "outputs": [
    {
     "data": {
      "text/plain": [
       "TestResults(failed=0, attempted=2)"
      ]
     },
     "execution_count": 19,
     "metadata": {},
     "output_type": "execute_result"
    }
   ],
   "source": [
    "import doctest\n",
    "doctest.testmod()"
   ]
  },
  {
   "cell_type": "markdown",
   "metadata": {},
   "source": [
    "Exercise 2:\n",
    "\n",
    "Modify your function from Exercise 1 so it requires a third parameter, population. It should now return a signle string of the form City, Country - population xxx, such as <i>\"Anchorage, United States - population 288,000\"</i>. Run your test again and make sure it fails.\n",
    "\n",
    "Modify the function so the population parameter is optional. Run your previous test case and make sure it passes this time.\n",
    "\n",
    "Write a second test that verifies you can call your function with the values <i>Anchorage, United States,and 288000</i>. Run the test and make sure all your test cases pass."
   ]
  },
  {
   "cell_type": "code",
   "execution_count": 8,
   "metadata": {},
   "outputs": [
    {
     "ename": "TypeError",
     "evalue": "city_info() missing 1 required positional argument: 'population'",
     "output_type": "error",
     "traceback": [
      "\u001b[1;31m---------------------------------------------------------------------------\u001b[0m",
      "\u001b[1;31mTypeError\u001b[0m                                 Traceback (most recent call last)",
      "\u001b[1;32m<ipython-input-8-ef7f1155beec>\u001b[0m in \u001b[0;36m<module>\u001b[1;34m\u001b[0m\n\u001b[0;32m      7\u001b[0m     \u001b[1;32mreturn\u001b[0m \u001b[1;34mf\"{city}, {country} - population {population:,}\"\u001b[0m\u001b[1;33m\u001b[0m\u001b[1;33m\u001b[0m\u001b[0m\n\u001b[0;32m      8\u001b[0m \u001b[1;33m\u001b[0m\u001b[0m\n\u001b[1;32m----> 9\u001b[1;33m \u001b[0mprint\u001b[0m\u001b[1;33m(\u001b[0m\u001b[0mcity_info\u001b[0m\u001b[1;33m(\u001b[0m\u001b[1;34m'Anchorage'\u001b[0m\u001b[1;33m,\u001b[0m \u001b[1;34m'United States'\u001b[0m\u001b[1;33m)\u001b[0m\u001b[1;33m)\u001b[0m\u001b[1;33m\u001b[0m\u001b[1;33m\u001b[0m\u001b[0m\n\u001b[0m",
      "\u001b[1;31mTypeError\u001b[0m: city_info() missing 1 required positional argument: 'population'"
     ]
    }
   ],
   "source": [
    "def city_info (city, country, population) :\n",
    "    \"\"\"Returns formatted string of City, Country, Population\n",
    "    \n",
    "    >>> city_info('Anchorage', 'United States')\n",
    "    'Anchorage, United States - 288000'\n",
    "    \"\"\"\n",
    "    return f\"{city}, {country} - population {population:,}\"\n",
    "\n",
    "print(city_info('Anchorage', 'United States'))\n"
   ]
  },
  {
   "cell_type": "code",
   "execution_count": 9,
   "metadata": {},
   "outputs": [
    {
     "name": "stdout",
     "output_type": "stream",
     "text": [
      "Trying:\n",
      "    city_country('Anchorage', 'United States')\n",
      "Expecting:\n",
      "    'Anchorage, United States'\n",
      "ok\n",
      "Trying:\n",
      "    city_info('Anchorage', 'United States')\n",
      "Expecting:\n",
      "    'Anchorage, United States - 288000'\n",
      "**********************************************************************\n",
      "File \"__main__\", line 4, in __main__.city_info\n",
      "Failed example:\n",
      "    city_info('Anchorage', 'United States')\n",
      "Exception raised:\n",
      "    Traceback (most recent call last):\n",
      "      File \"C:\\Users\\Philip Song\\anaconda3\\lib\\doctest.py\", line 1336, in __run\n",
      "        exec(compile(example.source, filename, \"single\",\n",
      "      File \"<doctest __main__.city_info[0]>\", line 1, in <module>\n",
      "        city_info('Anchorage', 'United States')\n",
      "    TypeError: city_info() missing 1 required positional argument: 'population'\n",
      "1 items had no tests:\n",
      "    __main__\n",
      "1 items passed all tests:\n",
      "   1 tests in __main__.city_country\n",
      "**********************************************************************\n",
      "1 items had failures:\n",
      "   1 of   1 in __main__.city_info\n",
      "2 tests in 3 items.\n",
      "1 passed and 1 failed.\n",
      "***Test Failed*** 1 failures.\n"
     ]
    },
    {
     "data": {
      "text/plain": [
       "TestResults(failed=1, attempted=2)"
      ]
     },
     "execution_count": 9,
     "metadata": {},
     "output_type": "execute_result"
    }
   ],
   "source": [
    "import doctest\n",
    "doctest.testmod(verbose=True)"
   ]
  },
  {
   "cell_type": "code",
   "execution_count": 20,
   "metadata": {},
   "outputs": [
    {
     "name": "stdout",
     "output_type": "stream",
     "text": [
      "Anchorage, United States - population 288,000\n"
     ]
    }
   ],
   "source": [
    "def city_info (city, country, population=288000) : # parameter 'population' optional\n",
    "    \"\"\"Returns formatted string of City, Country, Population\n",
    "    \n",
    "    >>> city_info('Anchorage', 'United States')\n",
    "    'Anchorage, United States - population 288,000'\n",
    "    \"\"\"\n",
    "    return f\"{city}, {country} - population {population:,}\"\n",
    "\n",
    "print(city_info('Anchorage', 'United States'))\n"
   ]
  },
  {
   "cell_type": "code",
   "execution_count": 21,
   "metadata": {},
   "outputs": [
    {
     "data": {
      "text/plain": [
       "TestResults(failed=0, attempted=2)"
      ]
     },
     "execution_count": 21,
     "metadata": {},
     "output_type": "execute_result"
    }
   ],
   "source": [
    "import doctest\n",
    "doctest.testmod()"
   ]
  },
  {
   "cell_type": "code",
   "execution_count": 22,
   "metadata": {},
   "outputs": [
    {
     "name": "stdout",
     "output_type": "stream",
     "text": [
      "Anchorage, United States - population 288,000\n"
     ]
    }
   ],
   "source": [
    "def city_info (city, country, population=2880000) :\n",
    "    \"\"\"Returns formatted string of City, Country, Population\n",
    "    \n",
    "    >>> city_info('Anchorage', 'United States', 288000)\n",
    "    'Anchorage, United States - population 288,000'\n",
    "    \"\"\"\n",
    "    return f\"{city}, {country} - population {population:,}\"\n",
    "\n",
    "print(city_info('Anchorage', 'United States', 288000)) # optional parameter filled in\n"
   ]
  },
  {
   "cell_type": "code",
   "execution_count": 23,
   "metadata": {},
   "outputs": [
    {
     "data": {
      "text/plain": [
       "TestResults(failed=0, attempted=2)"
      ]
     },
     "execution_count": 23,
     "metadata": {},
     "output_type": "execute_result"
    }
   ],
   "source": [
    "import doctest\n",
    "doctest.testmod()"
   ]
  },
  {
   "cell_type": "markdown",
   "metadata": {},
   "source": [
    "Exercise 3: \n",
    "\n",
    "Save above function in <b>city_functions.py</b>. Write test cases for the function using unittest module and save it to a file called <b>test_cities.py</b>. \n",
    "\n",
    "    Write a method called test_city_country() to verify that calling your function with city and country parameters results in the correct string. \n",
    "\n",
    "    Write a second test called test_city_country_population() that verifies you can call your function with city, country, and population parameters results in the correct string. \n",
    "    \n",
    "Run test_cities.py and make sure all your tests pass."
   ]
  },
  {
   "cell_type": "code",
   "execution_count": null,
   "metadata": {},
   "outputs": [],
   "source": [
    "# exported to test_cities.py\n",
    "\n",
    "import unittest\n",
    "from city_functions import city_info\n",
    "\n",
    "class CityTestCase(unittest.TestCase) :\n",
    "    \"\"\"Test for 'city_functions.py'\"\"\"\n",
    "    \n",
    "    def test_city_country(self) :\n",
    "        \"\"\"Testing city = 'Anchorage', country = 'United States'\"\"\"\n",
    "    \n",
    "        result = city_info('Anchorage','United States') # \n",
    "        self.assertEqual(result, 'Anchorage, United States - population 288,000')\n",
    "        \n",
    "    def test_city_country_population(self) :\n",
    "        \"\"\"Testing city = 'Anchorage', country = 'United States, population = 28800\"\"\"\n",
    "        result = city_info('Anchorage','United States', 288000)\n",
    "        self.assertEqual(result, 'Anchorage, United States - population 288,000')\n",
    " \n",
    "unittest.main()\n"
   ]
  },
  {
   "cell_type": "code",
   "execution_count": null,
   "metadata": {},
   "outputs": [],
   "source": []
  },
  {
   "cell_type": "markdown",
   "metadata": {},
   "source": [
    "Exercise 4:\n",
    "\n",
    "Write a class called Employee with private attributes to store a first name, a last name, and an annual salary. Write a method called give_raise() that adds 2% (of employee's current annual salary) to the annual salary by default but also accepts a different raise rate.\n",
    "\n",
    "Write a test case for Employee. Write two test methods, <b>test_give_default_raise()</b> and <b>test_give_custom_raise()</b>. Use the <b>setUp()</b> method so you don't have to create a new employee instance in each test method. \n",
    "\n",
    "Run your test case and make sure all tests pass.\n",
    "    \n",
    "    "
   ]
  },
  {
   "cell_type": "code",
   "execution_count": 37,
   "metadata": {},
   "outputs": [],
   "source": [
    "# exported to employee.py\n",
    "\n",
    "class Employee :\n",
    "    \"\"\"(annual) salary\"\"\"\n",
    "    def __init__(self, firstname, lastname, salary) :\n",
    "        \"\"\"Initialize private attributes\"\"\"\n",
    "        self.__firstname = firstname\n",
    "        self.__lastname = lastname\n",
    "        self.__salary = salary\n",
    "        \n",
    "    def give_raise(self, rate=0.02) :\n",
    "        self.__salary += rate*self.__salary\n",
    "        return self.__salary\n"
   ]
  },
  {
   "cell_type": "code",
   "execution_count": 40,
   "metadata": {},
   "outputs": [
    {
     "name": "stdout",
     "output_type": "stream",
     "text": [
      "102.0\n"
     ]
    }
   ],
   "source": [
    "employee1 = Employee(\"Miguel\", \"Diaz\", 100)\n",
    "print(employee1.give_raise())"
   ]
  },
  {
   "cell_type": "code",
   "execution_count": null,
   "metadata": {},
   "outputs": [],
   "source": [
    "# exported to test_employee.py\n",
    "\n",
    "import unittest\n",
    "from employee import Employee\n",
    "\n",
    "class test_Employee(unittest.TestCase) :\n",
    "    \"\"\"Test for employee.py\"\"\"\n",
    "    def setUp(self) :\n",
    "        \"\"\"creating multiple levels of a custom raise to use in test cases\"\"\"\n",
    "        self.employee1 = Employee(\"Miguel\", \"Diaz\", 100)\n",
    "        self.raises = [0.04, 0.1, 0.5]\n",
    "    \n",
    "    def test_give_default_raise(self) :\n",
    "        \"\"\"\"\"\"\n",
    "        result = self.employee1.give_raise()\n",
    "        self.assertEqual(result, 102.0)\n",
    "\n",
    "    def test_give_custom_raise(self, rate) :\n",
    "        salaries = []\n",
    "        for rate in self.raises :\n",
    "            salaries.append(give_raise[rate])\n",
    "            \n",
    "        self.assertEqual(salaries, [104.0,110.0,150.0])\n",
    "        \n",
    "\n",
    "unittest.main()"
   ]
  },
  {
   "cell_type": "markdown",
   "metadata": {},
   "source": [
    "## Exercise 3: (Module 5 Class Demo)\n",
    "Modify Car class (from Module 1 Class Demo.ipynb) such that \n",
    "\n",
    "    accelerate() returns speed\n",
    "    print_info() returns formated string\n",
    "    and include test cases for each method. \n",
    "\n",
    "Then, show your test cases work."
   ]
  },
  {
   "cell_type": "code",
   "execution_count": 32,
   "metadata": {},
   "outputs": [],
   "source": [
    "# from Module 1 Class Demo.ipynb\n",
    "\n",
    "class Car :\n",
    "    \"\"\"Car class has owner, year, make, model and color attributes\n",
    "    \n",
    "    >>> mycar = Car(\"Herbie\", 2018, 'VW', \"yellow\")\n",
    "    \n",
    "    >>> mycar.accelerate(30)\n",
    "    30\n",
    "    \n",
    "    >>> mycar.print_info()\n",
    "    yellow 2018 VW owned by Herbie is going 30 mph.\n",
    "    \n",
    "    \"\"\"\n",
    "    # mycar should return nothing\n",
    "    \n",
    "    # Any function starting with two underscores (__) is special in python.\n",
    "    # This function runs automatically.\n",
    "    # self refers to the car that's being created\n",
    "    def __init__(self, owner, year, make, color) :\n",
    "        \"\"\"Initialization method with owner, year, make, and color parameters\"\"\"\n",
    "        self.owner = owner\n",
    "        self.year = year\n",
    "        self.make = make\n",
    "        self.color = color\n",
    "        self.speed = 0\n",
    "        \n",
    "        \n",
    "    def accelerate(self, speed) :    \n",
    "        \n",
    "        self.speed += speed\n",
    "        return self.speed\n",
    "            \n",
    "                \n",
    "    def print_info(self) :            \n",
    "        print(f\"{self.color} {self.year} {self.make} owned by {self.owner} is going {self.speed} mph.\")"
   ]
  },
  {
   "cell_type": "code",
   "execution_count": 33,
   "metadata": {},
   "outputs": [
    {
     "data": {
      "text/plain": [
       "TestResults(failed=0, attempted=5)"
      ]
     },
     "execution_count": 33,
     "metadata": {},
     "output_type": "execute_result"
    }
   ],
   "source": [
    "import doctest\n",
    "doctest.testmod()"
   ]
  },
  {
   "cell_type": "code",
   "execution_count": null,
   "metadata": {},
   "outputs": [],
   "source": []
  }
 ],
 "metadata": {
  "kernelspec": {
   "display_name": "Python 3",
   "language": "python",
   "name": "python3"
  },
  "language_info": {
   "codemirror_mode": {
    "name": "ipython",
    "version": 3
   },
   "file_extension": ".py",
   "mimetype": "text/x-python",
   "name": "python",
   "nbconvert_exporter": "python",
   "pygments_lexer": "ipython3",
   "version": "3.8.5"
  }
 },
 "nbformat": 4,
 "nbformat_minor": 4
}
